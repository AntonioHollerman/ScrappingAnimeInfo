{
 "cells": [
  {
   "cell_type": "code",
   "execution_count": 1,
   "id": "initial_id",
   "metadata": {
    "collapsed": true,
    "ExecuteTime": {
     "end_time": "2023-09-20T23:22:14.051806900Z",
     "start_time": "2023-09-20T23:22:13.444959500Z"
    }
   },
   "outputs": [],
   "source": [
    "from scraping_functions import *\n",
    "import pandas as pd"
   ]
  },
  {
   "cell_type": "code",
   "execution_count": 2,
   "outputs": [
    {
     "data": {
      "text/plain": "     anime_id                                               name  \\\n0          -1                   Fullmetal Alchemist: Brotherhood   \n1          -1                                   Sword Art Online   \n2          -1                                             Naruto   \n3          -1                             Hunter x Hunter (2011)   \n4          -1                                 Naruto: Shippuuden   \n..        ...                                                ...   \n245        -1                        Jinrui wa Suitai Shimashita   \n246        -1                                  D.Gray-man Hallow   \n247        -1  Pokemon Movie 02: Maboroshi no Pokemon Lugia B...   \n248        -1                                      Flip Flappers   \n249        -1                              Nanatsu no Taizai OVA   \n\n                                           description rating  \\\n0    After a horrific alchemy experiment goes wrong...    9.1   \n1    Ever since the release of the innovative Nerve...    7.2   \n2    Moments prior to Naruto Uzumaki''s birth, a hu...   7.99   \n3    Hunters devote themselves to accomplishing haz...   9.04   \n4    It has been two and a half years since Naruto ...   8.26   \n..                                                 ...    ...   \n245  Because of the constantly declining birth rate...   7.73   \n246  Despite the recent Akuma attack, the members o...    7.7   \n247  An ancient prophecy tells of a day when the ti...   7.34   \n248  Cocona is an average middle schooler living wi...   7.64   \n249  OVA bundled with the 15th and 16th volume of t...    7.5   \n\n                studio                    themes  \\\n0                Bones                      NULL   \n1         A-1 Pictures  Love Polygon, Video Game   \n2              Pierrot                      NULL   \n3             Madhouse                      NULL   \n4              Pierrot                      NULL   \n..                 ...                       ...   \n245           AIC ASTA                      NULL   \n246  TMS Entertainment    Mythology, Super Power   \n247                OLM                      NULL   \n248         Studio 3Hz                      NULL   \n249       A-1 Pictures                      NULL   \n\n                              categories  eps mins_per_epi  \n0      Action, Adventure, Drama, Fantasy   64           24  \n1    Action, Adventure, Fantasy, Romance   25           23  \n2             Action, Adventure, Fantasy  220           23  \n3             Action, Adventure, Fantasy  148           23  \n4             Action, Adventure, Fantasy  500           23  \n..                                   ...  ...          ...  \n245           Adventure, Comedy, Fantasy   12           23  \n246           Action, Adventure, Fantasy   13           24  \n247    Adventure, Comedy, Drama, Fantasy    1           80  \n248   Adventure, Comedy, Fantasy, Sci-Fi   13           23  \n249           Action, Adventure, Fantasy    2           24  \n\n[250 rows x 9 columns]",
      "text/html": "<div>\n<style scoped>\n    .dataframe tbody tr th:only-of-type {\n        vertical-align: middle;\n    }\n\n    .dataframe tbody tr th {\n        vertical-align: top;\n    }\n\n    .dataframe thead th {\n        text-align: right;\n    }\n</style>\n<table border=\"1\" class=\"dataframe\">\n  <thead>\n    <tr style=\"text-align: right;\">\n      <th></th>\n      <th>anime_id</th>\n      <th>name</th>\n      <th>description</th>\n      <th>rating</th>\n      <th>studio</th>\n      <th>themes</th>\n      <th>categories</th>\n      <th>eps</th>\n      <th>mins_per_epi</th>\n    </tr>\n  </thead>\n  <tbody>\n    <tr>\n      <th>0</th>\n      <td>-1</td>\n      <td>Fullmetal Alchemist: Brotherhood</td>\n      <td>After a horrific alchemy experiment goes wrong...</td>\n      <td>9.1</td>\n      <td>Bones</td>\n      <td>NULL</td>\n      <td>Action, Adventure, Drama, Fantasy</td>\n      <td>64</td>\n      <td>24</td>\n    </tr>\n    <tr>\n      <th>1</th>\n      <td>-1</td>\n      <td>Sword Art Online</td>\n      <td>Ever since the release of the innovative Nerve...</td>\n      <td>7.2</td>\n      <td>A-1 Pictures</td>\n      <td>Love Polygon, Video Game</td>\n      <td>Action, Adventure, Fantasy, Romance</td>\n      <td>25</td>\n      <td>23</td>\n    </tr>\n    <tr>\n      <th>2</th>\n      <td>-1</td>\n      <td>Naruto</td>\n      <td>Moments prior to Naruto Uzumaki''s birth, a hu...</td>\n      <td>7.99</td>\n      <td>Pierrot</td>\n      <td>NULL</td>\n      <td>Action, Adventure, Fantasy</td>\n      <td>220</td>\n      <td>23</td>\n    </tr>\n    <tr>\n      <th>3</th>\n      <td>-1</td>\n      <td>Hunter x Hunter (2011)</td>\n      <td>Hunters devote themselves to accomplishing haz...</td>\n      <td>9.04</td>\n      <td>Madhouse</td>\n      <td>NULL</td>\n      <td>Action, Adventure, Fantasy</td>\n      <td>148</td>\n      <td>23</td>\n    </tr>\n    <tr>\n      <th>4</th>\n      <td>-1</td>\n      <td>Naruto: Shippuuden</td>\n      <td>It has been two and a half years since Naruto ...</td>\n      <td>8.26</td>\n      <td>Pierrot</td>\n      <td>NULL</td>\n      <td>Action, Adventure, Fantasy</td>\n      <td>500</td>\n      <td>23</td>\n    </tr>\n    <tr>\n      <th>...</th>\n      <td>...</td>\n      <td>...</td>\n      <td>...</td>\n      <td>...</td>\n      <td>...</td>\n      <td>...</td>\n      <td>...</td>\n      <td>...</td>\n      <td>...</td>\n    </tr>\n    <tr>\n      <th>245</th>\n      <td>-1</td>\n      <td>Jinrui wa Suitai Shimashita</td>\n      <td>Because of the constantly declining birth rate...</td>\n      <td>7.73</td>\n      <td>AIC ASTA</td>\n      <td>NULL</td>\n      <td>Adventure, Comedy, Fantasy</td>\n      <td>12</td>\n      <td>23</td>\n    </tr>\n    <tr>\n      <th>246</th>\n      <td>-1</td>\n      <td>D.Gray-man Hallow</td>\n      <td>Despite the recent Akuma attack, the members o...</td>\n      <td>7.7</td>\n      <td>TMS Entertainment</td>\n      <td>Mythology, Super Power</td>\n      <td>Action, Adventure, Fantasy</td>\n      <td>13</td>\n      <td>24</td>\n    </tr>\n    <tr>\n      <th>247</th>\n      <td>-1</td>\n      <td>Pokemon Movie 02: Maboroshi no Pokemon Lugia B...</td>\n      <td>An ancient prophecy tells of a day when the ti...</td>\n      <td>7.34</td>\n      <td>OLM</td>\n      <td>NULL</td>\n      <td>Adventure, Comedy, Drama, Fantasy</td>\n      <td>1</td>\n      <td>80</td>\n    </tr>\n    <tr>\n      <th>248</th>\n      <td>-1</td>\n      <td>Flip Flappers</td>\n      <td>Cocona is an average middle schooler living wi...</td>\n      <td>7.64</td>\n      <td>Studio 3Hz</td>\n      <td>NULL</td>\n      <td>Adventure, Comedy, Fantasy, Sci-Fi</td>\n      <td>13</td>\n      <td>23</td>\n    </tr>\n    <tr>\n      <th>249</th>\n      <td>-1</td>\n      <td>Nanatsu no Taizai OVA</td>\n      <td>OVA bundled with the 15th and 16th volume of t...</td>\n      <td>7.5</td>\n      <td>A-1 Pictures</td>\n      <td>NULL</td>\n      <td>Action, Adventure, Fantasy</td>\n      <td>2</td>\n      <td>24</td>\n    </tr>\n  </tbody>\n</table>\n<p>250 rows × 9 columns</p>\n</div>"
     },
     "execution_count": 2,
     "metadata": {},
     "output_type": "execute_result"
    }
   ],
   "source": [
    "info_conn = ScrapeInfo('Adventure')\n",
    "info = []\n",
    "for _ in range(250):\n",
    "    row = next(info_conn)\n",
    "    info.append(row)\n",
    "    update_db(row)\n",
    "\n",
    "info_conn.save_index()\n",
    "df = pd.DataFrame(info)\n",
    "df"
   ],
   "metadata": {
    "collapsed": false,
    "ExecuteTime": {
     "end_time": "2023-09-20T23:22:22.224063500Z",
     "start_time": "2023-09-20T23:22:14.053802300Z"
    }
   },
   "id": "ce469b24535c2661"
  },
  {
   "cell_type": "code",
   "execution_count": 3,
   "outputs": [
    {
     "name": "stdout",
     "output_type": "stream",
     "text": [
      "[(1, 'https://myanimelist.net/anime/genre/2/Adventure?page=1'), (2, 'https://myanimelist.net/anime/genre/2/Adventure?page=2'), (3, 'https://myanimelist.net/anime/genre/2/Adventure?page=3')]\n",
      "[(3, 'Adventure', 4, 50)]\n"
     ]
    }
   ],
   "source": [
    "db_cur.execute('SELECT * FROM url_scraped')\n",
    "print('Urls Scraped:', db_cur.fetchall())\n",
    "db_cur.execute('SELECT * FROM info_scraping_index')\n",
    "print('Current Index:', db_cur.fetchall())"
   ],
   "metadata": {
    "collapsed": false,
    "ExecuteTime": {
     "end_time": "2023-09-20T23:22:56.738584900Z",
     "start_time": "2023-09-20T23:22:56.719635600Z"
    }
   },
   "id": "e39fe387176bb914"
  },
  {
   "cell_type": "code",
   "execution_count": 4,
   "outputs": [],
   "source": [
    "for row in info_conn:\n",
    "    update_db(row)"
   ],
   "metadata": {
    "collapsed": false,
    "ExecuteTime": {
     "end_time": "2023-09-20T23:25:21.237897900Z",
     "start_time": "2023-09-20T23:23:53.242426900Z"
    }
   },
   "id": "2aa222f040ddcd10"
  },
  {
   "cell_type": "code",
   "execution_count": 5,
   "outputs": [
    {
     "name": "stdout",
     "output_type": "stream",
     "text": [
      "[(1, 'https://myanimelist.net/anime/genre/2/Adventure?page=1'), (2, 'https://myanimelist.net/anime/genre/2/Adventure?page=2'), (3, 'https://myanimelist.net/anime/genre/2/Adventure?page=3'), (4, 'https://myanimelist.net/anime/genre/2/Adventure?page=4'), (5, 'https://myanimelist.net/anime/genre/2/Adventure?page=5'), (6, 'https://myanimelist.net/anime/genre/2/Adventure?page=6'), (7, 'https://myanimelist.net/anime/genre/2/Adventure?page=7'), (8, 'https://myanimelist.net/anime/genre/2/Adventure?page=8'), (9, 'https://myanimelist.net/anime/genre/2/Adventure?page=9'), (10, 'https://myanimelist.net/anime/genre/2/Adventure?page=10'), (11, 'https://myanimelist.net/anime/genre/2/Adventure?page=11'), (12, 'https://myanimelist.net/anime/genre/2/Adventure?page=12'), (13, 'https://myanimelist.net/anime/genre/2/Adventure?page=13'), (14, 'https://myanimelist.net/anime/genre/2/Adventure?page=14'), (15, 'https://myanimelist.net/anime/genre/2/Adventure?page=15'), (16, 'https://myanimelist.net/anime/genre/2/Adventure?page=16'), (17, 'https://myanimelist.net/anime/genre/2/Adventure?page=17'), (18, 'https://myanimelist.net/anime/genre/2/Adventure?page=18'), (19, 'https://myanimelist.net/anime/genre/2/Adventure?page=19'), (20, 'https://myanimelist.net/anime/genre/2/Adventure?page=20'), (21, 'https://myanimelist.net/anime/genre/2/Adventure?page=21'), (22, 'https://myanimelist.net/anime/genre/2/Adventure?page=22'), (23, 'https://myanimelist.net/anime/genre/2/Adventure?page=23'), (24, 'https://myanimelist.net/anime/genre/2/Adventure?page=24'), (25, 'https://myanimelist.net/anime/genre/2/Adventure?page=25'), (26, 'https://myanimelist.net/anime/genre/2/Adventure?page=26'), (27, 'https://myanimelist.net/anime/genre/2/Adventure?page=27'), (28, 'https://myanimelist.net/anime/genre/2/Adventure?page=28'), (29, 'https://myanimelist.net/anime/genre/2/Adventure?page=29'), (30, 'https://myanimelist.net/anime/genre/2/Adventure?page=30'), (31, 'https://myanimelist.net/anime/genre/2/Adventure?page=31'), (32, 'https://myanimelist.net/anime/genre/2/Adventure?page=32'), (33, 'https://myanimelist.net/anime/genre/2/Adventure?page=33'), (34, 'https://myanimelist.net/anime/genre/2/Adventure?page=34'), (35, 'https://myanimelist.net/anime/genre/2/Adventure?page=35'), (36, 'https://myanimelist.net/anime/genre/2/Adventure?page=36'), (37, 'https://myanimelist.net/anime/genre/2/Adventure?page=37'), (38, 'https://myanimelist.net/anime/genre/2/Adventure?page=38'), (39, 'https://myanimelist.net/anime/genre/2/Adventure?page=39'), (40, 'https://myanimelist.net/anime/genre/2/Adventure?page=40')]\n",
      "[(40, 'Adventure', 41, 0)]\n"
     ]
    }
   ],
   "source": [
    "db_cur.execute('SELECT * FROM url_scraped')\n",
    "print(db_cur.fetchall())\n",
    "db_cur.execute('SELECT * FROM info_scraping_index')\n",
    "print(db_cur.fetchall())"
   ],
   "metadata": {
    "collapsed": false,
    "ExecuteTime": {
     "end_time": "2023-09-20T23:29:40.432325600Z",
     "start_time": "2023-09-20T23:29:40.383586100Z"
    }
   },
   "id": "3dd4967ba68c9ca1"
  },
  {
   "cell_type": "code",
   "execution_count": 6,
   "outputs": [
    {
     "name": "stdout",
     "output_type": "stream",
     "text": [
      "(3901,)\n",
      "(6009,)\n"
     ]
    }
   ],
   "source": [
    "db_cur.execute('SELECT COUNT(*) FROM animeinfo')\n",
    "print('Size = number of anime in the database')\n",
    "print('Adventure Size:', db_cur.fetchone()[0])\n",
    "all_genres = ['Action', 'Avant_Garde', 'Award_Winning', 'Boys_Love', 'Comedy', 'Drama', 'Fantasy', 'Girls_Love', 'Gourmet', 'Mystery', 'Romance', 'Sci-Fi', 'Slice_of_Life', 'Sports', 'Supernatural', 'Suspense']\n",
    "for genre in all_genres:\n",
    "    info_conn.set_category(genre)\n",
    "    for row in info_conn:\n",
    "        update_db(row)\n",
    "db_cur.execute('SELECT COUNT(*) FROM animeinfo')\n",
    "print('Website Size:', db_cur.fetchone()[0])"
   ],
   "metadata": {
    "collapsed": false,
    "ExecuteTime": {
     "end_time": "2023-09-20T23:38:58.994482300Z",
     "start_time": "2023-09-20T23:37:35.579077900Z"
    }
   },
   "id": "b5eac06d9d048f59"
  },
  {
   "cell_type": "code",
   "execution_count": 7,
   "outputs": [
    {
     "data": {
      "text/plain": "{'Adventure': {'page_index': 42, 'div_index': 0},\n 'Action': {'page_index': 51, 'div_index': 0},\n 'Avant_Garde': {'page_index': 52, 'div_index': 0},\n 'Award_Winning': {'page_index': 53, 'div_index': 0},\n 'Boys_Love': {'page_index': 54, 'div_index': 0},\n 'Comedy': {'page_index': 74, 'div_index': 0},\n 'Drama': {'page_index': 75, 'div_index': 0},\n 'Fantasy': {'page_index': 76, 'div_index': 0},\n 'Girls_Love': {'page_index': 77, 'div_index': 0},\n 'Gourmet': {'page_index': 78, 'div_index': 0},\n 'Mystery': {'page_index': 79, 'div_index': 0},\n 'Romance': {'page_index': 80, 'div_index': 0},\n 'Sci-Fi': {'page_index': 81, 'div_index': 0},\n 'Slice_of_Life': {'page_index': 82, 'div_index': 0},\n 'Sports': {'page_index': 83, 'div_index': 0},\n 'Supernatural': {'page_index': 84, 'div_index': 0}}"
     },
     "execution_count": 7,
     "metadata": {},
     "output_type": "execute_result"
    }
   ],
   "source": [
    "print('Index Scraped:', info_conn.scraping_index, end='\\n')"
   ],
   "metadata": {
    "collapsed": false,
    "ExecuteTime": {
     "end_time": "2023-09-20T23:41:24.558455300Z",
     "start_time": "2023-09-20T23:41:24.510583300Z"
    }
   },
   "id": "5b1d809e3cf926a4"
  },
  {
   "cell_type": "code",
   "execution_count": null,
   "outputs": [],
   "source": [],
   "metadata": {
    "collapsed": false
   },
   "id": "48bbacf0d121b15b"
  }
 ],
 "metadata": {
  "kernelspec": {
   "display_name": "Python 3",
   "language": "python",
   "name": "python3"
  },
  "language_info": {
   "codemirror_mode": {
    "name": "ipython",
    "version": 2
   },
   "file_extension": ".py",
   "mimetype": "text/x-python",
   "name": "python",
   "nbconvert_exporter": "python",
   "pygments_lexer": "ipython2",
   "version": "2.7.6"
  }
 },
 "nbformat": 4,
 "nbformat_minor": 5
}
