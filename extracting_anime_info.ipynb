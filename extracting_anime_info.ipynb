{
 "cells": [
  {
   "cell_type": "code",
   "execution_count": 1,
   "id": "initial_id",
   "metadata": {
    "collapsed": true,
    "ExecuteTime": {
     "end_time": "2023-11-12T03:37:14.886294700Z",
     "start_time": "2023-11-12T03:37:13.579426500Z"
    }
   },
   "outputs": [],
   "source": [
    "from scraping_functions import *\n",
    "import pandas as pd"
   ]
  },
  {
   "cell_type": "code",
   "execution_count": 2,
   "outputs": [
    {
     "data": {
      "text/plain": "     anime_id                                               name  \\\n0          -1                   Fullmetal Alchemist: Brotherhood   \n1          -1                                   Sword Art Online   \n2          -1                                             Naruto   \n3          -1                             Hunter x Hunter (2011)   \n4          -1                                 Naruto: Shippuuden   \n..        ...                                                ...   \n245        -1                                       Kaizoku Oujo   \n246        -1                          Jormungand: Perfect Order   \n247        -1            Hyakuren no Haou to Seiyaku no Valkyria   \n248        -1                        Jinrui wa Suitai Shimashita   \n249        -1  Pokemon Movie 02: Maboroshi no Pokemon Lugia B...   \n\n                                           description rating          studio  \\\n0    After a horrific alchemy experiment goes wrong...    9.1           Bones   \n1    Ever since the release of the innovative Nerve...    7.2    A-1 Pictures   \n2    Moments prior to Naruto Uzumaki''s birth, a hu...   7.99         Pierrot   \n3    Hunters devote themselves to accomplishing haz...   9.04        Madhouse   \n4    It has been two and a half years since Naruto ...   8.26         Pierrot   \n..                                                 ...    ...             ...   \n245  A decade ago, a tragic shipwreck separated Fen...   7.07  Production I.G   \n246  Still in pursuit of her ambitious goal, ingeni...    7.9       White Fox   \n247  Some urban legends are best left untested! Yuu...   5.69     EMT Squared   \n248  Because of the constantly declining birth rate...   7.72        AIC ASTA   \n249  An ancient prophecy tells of a day when the ti...   7.34             OLM   \n\n                       themes                           categories  eps  \\\n0                        NULL    Action, Adventure, Drama, Fantasy   64   \n1    Love Polygon, Video Game  Action, Adventure, Fantasy, Romance   25   \n2                        NULL           Action, Adventure, Fantasy  220   \n3                        NULL           Action, Adventure, Fantasy  148   \n4                        NULL           Action, Adventure, Fantasy  500   \n..                        ...                                  ...  ...   \n245                      NULL           Action, Adventure, Fantasy   12   \n246                      NULL                    Action, Adventure   12   \n247   Harem, Isekai, Military  Action, Adventure, Fantasy, Romance   12   \n248                      NULL           Adventure, Comedy, Fantasy   12   \n249                      NULL           Adventure, Comedy, Fantasy    1   \n\n    mins_per_epi  \n0             24  \n1             23  \n2             23  \n3             23  \n4             23  \n..           ...  \n245           24  \n246           24  \n247           23  \n248           23  \n249           80  \n\n[250 rows x 9 columns]",
      "text/html": "<div>\n<style scoped>\n    .dataframe tbody tr th:only-of-type {\n        vertical-align: middle;\n    }\n\n    .dataframe tbody tr th {\n        vertical-align: top;\n    }\n\n    .dataframe thead th {\n        text-align: right;\n    }\n</style>\n<table border=\"1\" class=\"dataframe\">\n  <thead>\n    <tr style=\"text-align: right;\">\n      <th></th>\n      <th>anime_id</th>\n      <th>name</th>\n      <th>description</th>\n      <th>rating</th>\n      <th>studio</th>\n      <th>themes</th>\n      <th>categories</th>\n      <th>eps</th>\n      <th>mins_per_epi</th>\n    </tr>\n  </thead>\n  <tbody>\n    <tr>\n      <th>0</th>\n      <td>-1</td>\n      <td>Fullmetal Alchemist: Brotherhood</td>\n      <td>After a horrific alchemy experiment goes wrong...</td>\n      <td>9.1</td>\n      <td>Bones</td>\n      <td>NULL</td>\n      <td>Action, Adventure, Drama, Fantasy</td>\n      <td>64</td>\n      <td>24</td>\n    </tr>\n    <tr>\n      <th>1</th>\n      <td>-1</td>\n      <td>Sword Art Online</td>\n      <td>Ever since the release of the innovative Nerve...</td>\n      <td>7.2</td>\n      <td>A-1 Pictures</td>\n      <td>Love Polygon, Video Game</td>\n      <td>Action, Adventure, Fantasy, Romance</td>\n      <td>25</td>\n      <td>23</td>\n    </tr>\n    <tr>\n      <th>2</th>\n      <td>-1</td>\n      <td>Naruto</td>\n      <td>Moments prior to Naruto Uzumaki''s birth, a hu...</td>\n      <td>7.99</td>\n      <td>Pierrot</td>\n      <td>NULL</td>\n      <td>Action, Adventure, Fantasy</td>\n      <td>220</td>\n      <td>23</td>\n    </tr>\n    <tr>\n      <th>3</th>\n      <td>-1</td>\n      <td>Hunter x Hunter (2011)</td>\n      <td>Hunters devote themselves to accomplishing haz...</td>\n      <td>9.04</td>\n      <td>Madhouse</td>\n      <td>NULL</td>\n      <td>Action, Adventure, Fantasy</td>\n      <td>148</td>\n      <td>23</td>\n    </tr>\n    <tr>\n      <th>4</th>\n      <td>-1</td>\n      <td>Naruto: Shippuuden</td>\n      <td>It has been two and a half years since Naruto ...</td>\n      <td>8.26</td>\n      <td>Pierrot</td>\n      <td>NULL</td>\n      <td>Action, Adventure, Fantasy</td>\n      <td>500</td>\n      <td>23</td>\n    </tr>\n    <tr>\n      <th>...</th>\n      <td>...</td>\n      <td>...</td>\n      <td>...</td>\n      <td>...</td>\n      <td>...</td>\n      <td>...</td>\n      <td>...</td>\n      <td>...</td>\n      <td>...</td>\n    </tr>\n    <tr>\n      <th>245</th>\n      <td>-1</td>\n      <td>Kaizoku Oujo</td>\n      <td>A decade ago, a tragic shipwreck separated Fen...</td>\n      <td>7.07</td>\n      <td>Production I.G</td>\n      <td>NULL</td>\n      <td>Action, Adventure, Fantasy</td>\n      <td>12</td>\n      <td>24</td>\n    </tr>\n    <tr>\n      <th>246</th>\n      <td>-1</td>\n      <td>Jormungand: Perfect Order</td>\n      <td>Still in pursuit of her ambitious goal, ingeni...</td>\n      <td>7.9</td>\n      <td>White Fox</td>\n      <td>NULL</td>\n      <td>Action, Adventure</td>\n      <td>12</td>\n      <td>24</td>\n    </tr>\n    <tr>\n      <th>247</th>\n      <td>-1</td>\n      <td>Hyakuren no Haou to Seiyaku no Valkyria</td>\n      <td>Some urban legends are best left untested! Yuu...</td>\n      <td>5.69</td>\n      <td>EMT Squared</td>\n      <td>Harem, Isekai, Military</td>\n      <td>Action, Adventure, Fantasy, Romance</td>\n      <td>12</td>\n      <td>23</td>\n    </tr>\n    <tr>\n      <th>248</th>\n      <td>-1</td>\n      <td>Jinrui wa Suitai Shimashita</td>\n      <td>Because of the constantly declining birth rate...</td>\n      <td>7.72</td>\n      <td>AIC ASTA</td>\n      <td>NULL</td>\n      <td>Adventure, Comedy, Fantasy</td>\n      <td>12</td>\n      <td>23</td>\n    </tr>\n    <tr>\n      <th>249</th>\n      <td>-1</td>\n      <td>Pokemon Movie 02: Maboroshi no Pokemon Lugia B...</td>\n      <td>An ancient prophecy tells of a day when the ti...</td>\n      <td>7.34</td>\n      <td>OLM</td>\n      <td>NULL</td>\n      <td>Adventure, Comedy, Fantasy</td>\n      <td>1</td>\n      <td>80</td>\n    </tr>\n  </tbody>\n</table>\n<p>250 rows × 9 columns</p>\n</div>"
     },
     "execution_count": 2,
     "metadata": {},
     "output_type": "execute_result"
    }
   ],
   "source": [
    "info_conn = ScrapeInfo('Adventure')\n",
    "info = []\n",
    "for _ in range(250):\n",
    "    row = next(info_conn)\n",
    "    info.append(row)\n",
    "    update_db(row)\n",
    "\n",
    "info_conn.save_index()\n",
    "df = pd.DataFrame(info)\n",
    "df"
   ],
   "metadata": {
    "collapsed": false,
    "ExecuteTime": {
     "end_time": "2023-11-12T03:42:47.779374800Z",
     "start_time": "2023-11-12T03:40:15.403048800Z"
    }
   },
   "id": "ce469b24535c2661"
  },
  {
   "cell_type": "code",
   "execution_count": 3,
   "outputs": [
    {
     "name": "stdout",
     "output_type": "stream",
     "text": [
      "Urls Scraped: [(1, 'https://myanimelist.net/anime/genre/2/Adventure?page=1'), (2, 'https://myanimelist.net/anime/genre/2/Adventure?page=2'), (3, 'https://myanimelist.net/anime/genre/2/Adventure?page=3')]\n",
      "Current Index: [(3, 'Adventure', 4, 50)]\n"
     ]
    }
   ],
   "source": [
    "db_cur.execute('SELECT * FROM url_scraped')\n",
    "print('Urls Scraped:', db_cur.fetchall())\n",
    "db_cur.execute('SELECT * FROM info_scraping_index')\n",
    "print('Current Index:', db_cur.fetchall())"
   ],
   "metadata": {
    "collapsed": false,
    "ExecuteTime": {
     "end_time": "2023-11-12T03:43:30.162512600Z",
     "start_time": "2023-11-12T03:42:47.782367100Z"
    }
   },
   "id": "e39fe387176bb914"
  },
  {
   "cell_type": "code",
   "execution_count": 4,
   "outputs": [],
   "source": [
    "for row in info_conn:\n",
    "    update_db(row)"
   ],
   "metadata": {
    "collapsed": false,
    "ExecuteTime": {
     "end_time": "2023-11-12T04:21:16.197002800Z",
     "start_time": "2023-11-12T03:42:47.954274200Z"
    }
   },
   "id": "2aa222f040ddcd10"
  },
  {
   "cell_type": "code",
   "execution_count": 5,
   "outputs": [
    {
     "name": "stdout",
     "output_type": "stream",
     "text": [
      "[(1, 'https://myanimelist.net/anime/genre/2/Adventure?page=1'), (2, 'https://myanimelist.net/anime/genre/2/Adventure?page=2'), (3, 'https://myanimelist.net/anime/genre/2/Adventure?page=3'), (4, 'https://myanimelist.net/anime/genre/2/Adventure?page=4'), (5, 'https://myanimelist.net/anime/genre/2/Adventure?page=5'), (6, 'https://myanimelist.net/anime/genre/2/Adventure?page=6'), (7, 'https://myanimelist.net/anime/genre/2/Adventure?page=7'), (8, 'https://myanimelist.net/anime/genre/2/Adventure?page=8'), (9, 'https://myanimelist.net/anime/genre/2/Adventure?page=9'), (10, 'https://myanimelist.net/anime/genre/2/Adventure?page=10'), (11, 'https://myanimelist.net/anime/genre/2/Adventure?page=11'), (12, 'https://myanimelist.net/anime/genre/2/Adventure?page=12'), (13, 'https://myanimelist.net/anime/genre/2/Adventure?page=13'), (14, 'https://myanimelist.net/anime/genre/2/Adventure?page=14'), (15, 'https://myanimelist.net/anime/genre/2/Adventure?page=15'), (16, 'https://myanimelist.net/anime/genre/2/Adventure?page=16'), (17, 'https://myanimelist.net/anime/genre/2/Adventure?page=17'), (18, 'https://myanimelist.net/anime/genre/2/Adventure?page=18'), (19, 'https://myanimelist.net/anime/genre/2/Adventure?page=19'), (20, 'https://myanimelist.net/anime/genre/2/Adventure?page=20'), (21, 'https://myanimelist.net/anime/genre/2/Adventure?page=21'), (22, 'https://myanimelist.net/anime/genre/2/Adventure?page=22'), (23, 'https://myanimelist.net/anime/genre/2/Adventure?page=23'), (24, 'https://myanimelist.net/anime/genre/2/Adventure?page=24'), (25, 'https://myanimelist.net/anime/genre/2/Adventure?page=25'), (26, 'https://myanimelist.net/anime/genre/2/Adventure?page=26'), (27, 'https://myanimelist.net/anime/genre/2/Adventure?page=27'), (28, 'https://myanimelist.net/anime/genre/2/Adventure?page=28'), (29, 'https://myanimelist.net/anime/genre/2/Adventure?page=29'), (30, 'https://myanimelist.net/anime/genre/2/Adventure?page=30'), (31, 'https://myanimelist.net/anime/genre/2/Adventure?page=31'), (32, 'https://myanimelist.net/anime/genre/2/Adventure?page=32'), (33, 'https://myanimelist.net/anime/genre/2/Adventure?page=33'), (34, 'https://myanimelist.net/anime/genre/2/Adventure?page=34'), (35, 'https://myanimelist.net/anime/genre/2/Adventure?page=35'), (36, 'https://myanimelist.net/anime/genre/2/Adventure?page=36'), (37, 'https://myanimelist.net/anime/genre/2/Adventure?page=37'), (38, 'https://myanimelist.net/anime/genre/2/Adventure?page=38'), (39, 'https://myanimelist.net/anime/genre/2/Adventure?page=39'), (40, 'https://myanimelist.net/anime/genre/2/Adventure?page=40')]\n",
      "[(40, 'Adventure', 41, 33)]\n"
     ]
    }
   ],
   "source": [
    "db_cur.execute('SELECT * FROM url_scraped')\n",
    "print(db_cur.fetchall())\n",
    "db_cur.execute('SELECT * FROM info_scraping_index')\n",
    "print(db_cur.fetchall())"
   ],
   "metadata": {
    "collapsed": false,
    "ExecuteTime": {
     "end_time": "2023-11-12T04:21:16.349595100Z",
     "start_time": "2023-11-12T04:21:16.201989500Z"
    }
   },
   "id": "3dd4967ba68c9ca1"
  },
  {
   "cell_type": "code",
   "execution_count": 6,
   "outputs": [
    {
     "name": "stdout",
     "output_type": "stream",
     "text": [
      "Size = number of anime in the database\n",
      "Adventure Size: 3934\n",
      "Website Size: 6035\n"
     ]
    }
   ],
   "source": [
    "db_cur.execute('SELECT COUNT(*) FROM animeinfo')\n",
    "print('Size = number of anime in the database')\n",
    "print('Adventure Size:', db_cur.fetchone()[0])\n",
    "all_genres = ['Action', 'Avant_Garde', 'Award_Winning', 'Boys_Love', 'Comedy', 'Drama', 'Fantasy', 'Girls_Love', 'Gourmet', 'Mystery', 'Romance', 'Sci-Fi', 'Slice_of_Life', 'Sports', 'Supernatural', 'Suspense']\n",
    "for genre in all_genres:\n",
    "    info_conn.set_category(genre)\n",
    "    for row in info_conn:\n",
    "        update_db(row)\n",
    "db_cur.execute('SELECT COUNT(*) FROM animeinfo')\n",
    "print('Website Size:', db_cur.fetchone()[0])"
   ],
   "metadata": {
    "collapsed": false,
    "ExecuteTime": {
     "end_time": "2023-11-12T04:48:38.069092300Z",
     "start_time": "2023-11-12T04:21:16.351590Z"
    }
   },
   "id": "b5eac06d9d048f59"
  },
  {
   "cell_type": "code",
   "execution_count": 7,
   "outputs": [
    {
     "name": "stdout",
     "output_type": "stream",
     "text": [
      "Index Scraped: {'Adventure': {'page_index': 42, 'div_index': 0}, 'Action': {'page_index': 52, 'div_index': 0}, 'Avant_Garde': {'page_index': 53, 'div_index': 0}, 'Award_Winning': {'page_index': 54, 'div_index': 0}, 'Boys_Love': {'page_index': 55, 'div_index': 0}, 'Comedy': {'page_index': 74, 'div_index': 0}, 'Drama': {'page_index': 75, 'div_index': 0}, 'Fantasy': {'page_index': 76, 'div_index': 0}, 'Girls_Love': {'page_index': 77, 'div_index': 0}, 'Gourmet': {'page_index': 78, 'div_index': 0}, 'Mystery': {'page_index': 79, 'div_index': 0}, 'Romance': {'page_index': 80, 'div_index': 0}, 'Sci-Fi': {'page_index': 81, 'div_index': 0}, 'Slice_of_Life': {'page_index': 82, 'div_index': 0}, 'Sports': {'page_index': 83, 'div_index': 0}, 'Supernatural': {'page_index': 84, 'div_index': 0}}\n"
     ]
    }
   ],
   "source": [
    "print('Index Scraped:', info_conn.scraping_index, end='\\n')"
   ],
   "metadata": {
    "collapsed": false,
    "ExecuteTime": {
     "end_time": "2023-11-12T04:48:38.088041Z",
     "start_time": "2023-11-12T04:48:38.073082400Z"
    }
   },
   "id": "5b1d809e3cf926a4"
  },
  {
   "cell_type": "code",
   "execution_count": 8,
   "outputs": [],
   "source": [
    "db_cur.close()\n",
    "db_conn.commit()\n",
    "db_conn.close()"
   ],
   "metadata": {
    "collapsed": false,
    "ExecuteTime": {
     "end_time": "2023-11-12T04:48:38.160846400Z",
     "start_time": "2023-11-12T04:48:38.085049200Z"
    }
   },
   "id": "321bd7e145cb7946"
  },
  {
   "cell_type": "code",
   "execution_count": null,
   "outputs": [],
   "source": [],
   "metadata": {
    "collapsed": false
   },
   "id": "4c9ef89ca3fb5b99"
  }
 ],
 "metadata": {
  "kernelspec": {
   "display_name": "Python 3",
   "language": "python",
   "name": "python3"
  },
  "language_info": {
   "codemirror_mode": {
    "name": "ipython",
    "version": 2
   },
   "file_extension": ".py",
   "mimetype": "text/x-python",
   "name": "python",
   "nbconvert_exporter": "python",
   "pygments_lexer": "ipython2",
   "version": "2.7.6"
  }
 },
 "nbformat": 4,
 "nbformat_minor": 5
}
