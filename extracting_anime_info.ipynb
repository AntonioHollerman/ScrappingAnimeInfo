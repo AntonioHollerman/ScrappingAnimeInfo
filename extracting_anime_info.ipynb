{
 "cells": [
  {
   "cell_type": "code",
   "id": "initial_id",
   "metadata": {
    "collapsed": true,
    "ExecuteTime": {
     "end_time": "2024-04-20T01:44:44.505564Z",
     "start_time": "2024-04-20T01:44:43.150996Z"
    }
   },
   "source": [
    "from scraping_functions import *\n",
    "import pandas as pd"
   ],
   "outputs": [],
   "execution_count": 1
  },
  {
   "cell_type": "code",
   "source": [
    "info_conn = ScrapeInfo('Adventure')\n",
    "info = []\n",
    "for _ in range(250):\n",
    "    row = next(info_conn)\n",
    "    info.append(row)\n",
    "    insert_info_row(row)\n",
    "\n",
    "info_conn.save_index()\n",
    "df = pd.DataFrame(info)\n",
    "df"
   ],
   "metadata": {
    "collapsed": false,
    "ExecuteTime": {
     "end_time": "2024-04-20T01:47:04.959524Z",
     "start_time": "2024-04-20T01:44:44.506960Z"
    }
   },
   "id": "ce469b24535c2661",
   "outputs": [
    {
     "data": {
      "text/plain": [
       "     anime_id                                               name  \\\n",
       "0           2                                        Overlord IV   \n",
       "1           3                           Fairy Tail: Final Series   \n",
       "2           4      Death March kara Hajimaru Isekai Kyousoukyoku   \n",
       "3           5               Zero no Tsukaima: Futatsuki no Kishi   \n",
       "4           6                            Sora yori mo Tooi Basho   \n",
       "..        ...                                                ...   \n",
       "245       247                    Nakanohito Genome [Jikkyouchuu]   \n",
       "246       248  Noumin Kanren no Skill bakka Agetetara Nazeka ...   \n",
       "247       249                                    Karakuri Circus   \n",
       "248       250                 Isekai wa Smartphone to Tomo ni. 2   \n",
       "249       251                           JoJo no Kimyou na Bouken   \n",
       "\n",
       "                                           description  rating        studio  \\\n",
       "0    E-Rantel, the capital city of the newly establ...    8.08      Madhouse   \n",
       "1    Although Fairy Tail has been disbanded and its...    7.59          NULL   \n",
       "2    Ichirou Suzuki, a programmer nearing his thirt...    6.45          NULL   \n",
       "3    Revered as heroes for their role in defending ...    7.40     J.C.Staff   \n",
       "4    Filled with an overwhelming sense of wonder fo...    8.52      Madhouse   \n",
       "..                                                 ...     ...           ...   \n",
       "245  Iride Akatsuki has unlocked hidden content in ...    6.87  SILVER LINK.   \n",
       "246  Al Wayne''s greatest goal is to become the bes...    5.95  Studio A-CAT   \n",
       "247  Narumi Katou is a middle-aged man who suffers ...    7.15   Studio VOLN   \n",
       "248  Touya Mochizuki grows accustomed to his new li...    6.44     J.C.Staff   \n",
       "249  Kujo Jotaro is a normal, popular Japanese high...    7.47          APPP   \n",
       "\n",
       "                    themes                                         categories  \\\n",
       "0                     NULL                         Action, Adventure, Fantasy   \n",
       "1                     NULL                         Action, Adventure, Fantasy   \n",
       "2            Harem, Isekai                                 Adventure, Fantasy   \n",
       "3    Harem, Isekai, School  Action, Adventure, Comedy, Fantasy, Romance, E...   \n",
       "4                     NULL                           Adventure, Comedy, Drama   \n",
       "..                     ...                                                ...   \n",
       "245                   NULL                          Adventure, Drama, Mystery   \n",
       "246                   NULL                         Action, Adventure, Fantasy   \n",
       "247                   NULL                  Action, Adventure, Drama, Mystery   \n",
       "248          Harem, Isekai                Adventure, Comedy, Fantasy, Romance   \n",
       "249                   NULL             Action, Adventure, Drama, Supernatural   \n",
       "\n",
       "    eps mins_per_epi  \n",
       "0    13           23  \n",
       "1    51           23  \n",
       "2    12           23  \n",
       "3    12           23  \n",
       "4    13           23  \n",
       "..   ..          ...  \n",
       "245  12           23  \n",
       "246  12           23  \n",
       "247  36           24  \n",
       "248  12           23  \n",
       "249   6           35  \n",
       "\n",
       "[250 rows x 9 columns]"
      ],
      "text/html": [
       "<div>\n",
       "<style scoped>\n",
       "    .dataframe tbody tr th:only-of-type {\n",
       "        vertical-align: middle;\n",
       "    }\n",
       "\n",
       "    .dataframe tbody tr th {\n",
       "        vertical-align: top;\n",
       "    }\n",
       "\n",
       "    .dataframe thead th {\n",
       "        text-align: right;\n",
       "    }\n",
       "</style>\n",
       "<table border=\"1\" class=\"dataframe\">\n",
       "  <thead>\n",
       "    <tr style=\"text-align: right;\">\n",
       "      <th></th>\n",
       "      <th>anime_id</th>\n",
       "      <th>name</th>\n",
       "      <th>description</th>\n",
       "      <th>rating</th>\n",
       "      <th>studio</th>\n",
       "      <th>themes</th>\n",
       "      <th>categories</th>\n",
       "      <th>eps</th>\n",
       "      <th>mins_per_epi</th>\n",
       "    </tr>\n",
       "  </thead>\n",
       "  <tbody>\n",
       "    <tr>\n",
       "      <th>0</th>\n",
       "      <td>2</td>\n",
       "      <td>Overlord IV</td>\n",
       "      <td>E-Rantel, the capital city of the newly establ...</td>\n",
       "      <td>8.08</td>\n",
       "      <td>Madhouse</td>\n",
       "      <td>NULL</td>\n",
       "      <td>Action, Adventure, Fantasy</td>\n",
       "      <td>13</td>\n",
       "      <td>23</td>\n",
       "    </tr>\n",
       "    <tr>\n",
       "      <th>1</th>\n",
       "      <td>3</td>\n",
       "      <td>Fairy Tail: Final Series</td>\n",
       "      <td>Although Fairy Tail has been disbanded and its...</td>\n",
       "      <td>7.59</td>\n",
       "      <td>NULL</td>\n",
       "      <td>NULL</td>\n",
       "      <td>Action, Adventure, Fantasy</td>\n",
       "      <td>51</td>\n",
       "      <td>23</td>\n",
       "    </tr>\n",
       "    <tr>\n",
       "      <th>2</th>\n",
       "      <td>4</td>\n",
       "      <td>Death March kara Hajimaru Isekai Kyousoukyoku</td>\n",
       "      <td>Ichirou Suzuki, a programmer nearing his thirt...</td>\n",
       "      <td>6.45</td>\n",
       "      <td>NULL</td>\n",
       "      <td>Harem, Isekai</td>\n",
       "      <td>Adventure, Fantasy</td>\n",
       "      <td>12</td>\n",
       "      <td>23</td>\n",
       "    </tr>\n",
       "    <tr>\n",
       "      <th>3</th>\n",
       "      <td>5</td>\n",
       "      <td>Zero no Tsukaima: Futatsuki no Kishi</td>\n",
       "      <td>Revered as heroes for their role in defending ...</td>\n",
       "      <td>7.40</td>\n",
       "      <td>J.C.Staff</td>\n",
       "      <td>Harem, Isekai, School</td>\n",
       "      <td>Action, Adventure, Comedy, Fantasy, Romance, E...</td>\n",
       "      <td>12</td>\n",
       "      <td>23</td>\n",
       "    </tr>\n",
       "    <tr>\n",
       "      <th>4</th>\n",
       "      <td>6</td>\n",
       "      <td>Sora yori mo Tooi Basho</td>\n",
       "      <td>Filled with an overwhelming sense of wonder fo...</td>\n",
       "      <td>8.52</td>\n",
       "      <td>Madhouse</td>\n",
       "      <td>NULL</td>\n",
       "      <td>Adventure, Comedy, Drama</td>\n",
       "      <td>13</td>\n",
       "      <td>23</td>\n",
       "    </tr>\n",
       "    <tr>\n",
       "      <th>...</th>\n",
       "      <td>...</td>\n",
       "      <td>...</td>\n",
       "      <td>...</td>\n",
       "      <td>...</td>\n",
       "      <td>...</td>\n",
       "      <td>...</td>\n",
       "      <td>...</td>\n",
       "      <td>...</td>\n",
       "      <td>...</td>\n",
       "    </tr>\n",
       "    <tr>\n",
       "      <th>245</th>\n",
       "      <td>247</td>\n",
       "      <td>Nakanohito Genome [Jikkyouchuu]</td>\n",
       "      <td>Iride Akatsuki has unlocked hidden content in ...</td>\n",
       "      <td>6.87</td>\n",
       "      <td>SILVER LINK.</td>\n",
       "      <td>NULL</td>\n",
       "      <td>Adventure, Drama, Mystery</td>\n",
       "      <td>12</td>\n",
       "      <td>23</td>\n",
       "    </tr>\n",
       "    <tr>\n",
       "      <th>246</th>\n",
       "      <td>248</td>\n",
       "      <td>Noumin Kanren no Skill bakka Agetetara Nazeka ...</td>\n",
       "      <td>Al Wayne''s greatest goal is to become the bes...</td>\n",
       "      <td>5.95</td>\n",
       "      <td>Studio A-CAT</td>\n",
       "      <td>NULL</td>\n",
       "      <td>Action, Adventure, Fantasy</td>\n",
       "      <td>12</td>\n",
       "      <td>23</td>\n",
       "    </tr>\n",
       "    <tr>\n",
       "      <th>247</th>\n",
       "      <td>249</td>\n",
       "      <td>Karakuri Circus</td>\n",
       "      <td>Narumi Katou is a middle-aged man who suffers ...</td>\n",
       "      <td>7.15</td>\n",
       "      <td>Studio VOLN</td>\n",
       "      <td>NULL</td>\n",
       "      <td>Action, Adventure, Drama, Mystery</td>\n",
       "      <td>36</td>\n",
       "      <td>24</td>\n",
       "    </tr>\n",
       "    <tr>\n",
       "      <th>248</th>\n",
       "      <td>250</td>\n",
       "      <td>Isekai wa Smartphone to Tomo ni. 2</td>\n",
       "      <td>Touya Mochizuki grows accustomed to his new li...</td>\n",
       "      <td>6.44</td>\n",
       "      <td>J.C.Staff</td>\n",
       "      <td>Harem, Isekai</td>\n",
       "      <td>Adventure, Comedy, Fantasy, Romance</td>\n",
       "      <td>12</td>\n",
       "      <td>23</td>\n",
       "    </tr>\n",
       "    <tr>\n",
       "      <th>249</th>\n",
       "      <td>251</td>\n",
       "      <td>JoJo no Kimyou na Bouken</td>\n",
       "      <td>Kujo Jotaro is a normal, popular Japanese high...</td>\n",
       "      <td>7.47</td>\n",
       "      <td>APPP</td>\n",
       "      <td>NULL</td>\n",
       "      <td>Action, Adventure, Drama, Supernatural</td>\n",
       "      <td>6</td>\n",
       "      <td>35</td>\n",
       "    </tr>\n",
       "  </tbody>\n",
       "</table>\n",
       "<p>250 rows × 9 columns</p>\n",
       "</div>"
      ]
     },
     "execution_count": 2,
     "metadata": {},
     "output_type": "execute_result"
    }
   ],
   "execution_count": 2
  },
  {
   "cell_type": "code",
   "source": [
    "db_cur.execute('SELECT * FROM url_scraped')\n",
    "print('Urls Scraped:', db_cur.fetchall())\n",
    "db_cur.execute('SELECT * FROM info_scraping_index')\n",
    "print('Current Index:', db_cur.fetchall())"
   ],
   "metadata": {
    "collapsed": false,
    "ExecuteTime": {
     "end_time": "2024-04-20T01:47:05.082282Z",
     "start_time": "2024-04-20T01:47:04.960521Z"
    }
   },
   "id": "e39fe387176bb914",
   "outputs": [
    {
     "name": "stdout",
     "output_type": "stream",
     "text": [
      "Urls Scraped: [(1, 'https://myanimelist.net/anime/genre/2/Adventure?page=1'), (2, 'https://myanimelist.net/anime/genre/2/Adventure?page=2'), (3, 'https://myanimelist.net/anime/genre/2/Adventure?page=3'), (4, 'https://myanimelist.net/anime/genre/2/Adventure?page=4')]\n",
      "Current Index: [(4, 'Adventure', 5, 50)]\n"
     ]
    }
   ],
   "execution_count": 3
  },
  {
   "cell_type": "code",
   "source": [
    "for row in info_conn:\n",
    "    insert_info_row(row)"
   ],
   "metadata": {
    "collapsed": false,
    "ExecuteTime": {
     "end_time": "2024-04-20T02:22:29.437894Z",
     "start_time": "2024-04-20T01:47:05.084067Z"
    }
   },
   "id": "2aa222f040ddcd10",
   "outputs": [],
   "execution_count": 4
  },
  {
   "cell_type": "code",
   "source": [
    "db_cur.execute('SELECT * FROM url_scraped')\n",
    "print(db_cur.fetchall())\n",
    "db_cur.execute('SELECT * FROM info_scraping_index')\n",
    "print(db_cur.fetchall())"
   ],
   "metadata": {
    "collapsed": false,
    "ExecuteTime": {
     "end_time": "2024-04-20T02:22:29.562200Z",
     "start_time": "2024-04-20T02:22:29.439470Z"
    }
   },
   "id": "3dd4967ba68c9ca1",
   "outputs": [
    {
     "name": "stdout",
     "output_type": "stream",
     "text": [
      "[(1, 'https://myanimelist.net/anime/genre/2/Adventure?page=1'), (2, 'https://myanimelist.net/anime/genre/2/Adventure?page=2'), (3, 'https://myanimelist.net/anime/genre/2/Adventure?page=3'), (4, 'https://myanimelist.net/anime/genre/2/Adventure?page=4'), (5, 'https://myanimelist.net/anime/genre/2/Adventure?page=5'), (6, 'https://myanimelist.net/anime/genre/2/Adventure?page=6'), (7, 'https://myanimelist.net/anime/genre/2/Adventure?page=7'), (8, 'https://myanimelist.net/anime/genre/2/Adventure?page=8'), (9, 'https://myanimelist.net/anime/genre/2/Adventure?page=9'), (10, 'https://myanimelist.net/anime/genre/2/Adventure?page=10'), (11, 'https://myanimelist.net/anime/genre/2/Adventure?page=11'), (12, 'https://myanimelist.net/anime/genre/2/Adventure?page=12'), (13, 'https://myanimelist.net/anime/genre/2/Adventure?page=13'), (14, 'https://myanimelist.net/anime/genre/2/Adventure?page=14'), (15, 'https://myanimelist.net/anime/genre/2/Adventure?page=15'), (16, 'https://myanimelist.net/anime/genre/2/Adventure?page=16'), (17, 'https://myanimelist.net/anime/genre/2/Adventure?page=17'), (18, 'https://myanimelist.net/anime/genre/2/Adventure?page=18'), (19, 'https://myanimelist.net/anime/genre/2/Adventure?page=19'), (20, 'https://myanimelist.net/anime/genre/2/Adventure?page=20'), (21, 'https://myanimelist.net/anime/genre/2/Adventure?page=21'), (22, 'https://myanimelist.net/anime/genre/2/Adventure?page=22'), (23, 'https://myanimelist.net/anime/genre/2/Adventure?page=23'), (24, 'https://myanimelist.net/anime/genre/2/Adventure?page=24'), (25, 'https://myanimelist.net/anime/genre/2/Adventure?page=25'), (26, 'https://myanimelist.net/anime/genre/2/Adventure?page=26'), (27, 'https://myanimelist.net/anime/genre/2/Adventure?page=27'), (28, 'https://myanimelist.net/anime/genre/2/Adventure?page=28'), (29, 'https://myanimelist.net/anime/genre/2/Adventure?page=29'), (30, 'https://myanimelist.net/anime/genre/2/Adventure?page=30'), (31, 'https://myanimelist.net/anime/genre/2/Adventure?page=31'), (32, 'https://myanimelist.net/anime/genre/2/Adventure?page=32'), (33, 'https://myanimelist.net/anime/genre/2/Adventure?page=33'), (34, 'https://myanimelist.net/anime/genre/2/Adventure?page=34'), (35, 'https://myanimelist.net/anime/genre/2/Adventure?page=35'), (36, 'https://myanimelist.net/anime/genre/2/Adventure?page=36'), (37, 'https://myanimelist.net/anime/genre/2/Adventure?page=37'), (38, 'https://myanimelist.net/anime/genre/2/Adventure?page=38'), (39, 'https://myanimelist.net/anime/genre/2/Adventure?page=39'), (40, 'https://myanimelist.net/anime/genre/2/Adventure?page=40'), (41, 'https://myanimelist.net/anime/genre/2/Adventure?page=41')]\n",
      "[(41, 'Adventure', 42, 42)]\n"
     ]
    }
   ],
   "execution_count": 5
  },
  {
   "cell_type": "code",
   "source": [
    "db_cur.execute('SELECT COUNT(*) FROM animeinfo')\n",
    "print('Size = number of anime in the database')\n",
    "print('Adventure Size:', db_cur.fetchone()[0])\n",
    "all_genres = ['Action', 'Avant_Garde', 'Award_Winning', 'Boys_Love', 'Comedy', 'Drama', 'Fantasy', 'Girls_Love', 'Gourmet', 'Mystery', 'Romance', 'Sci-Fi', 'Slice_of_Life', 'Sports', 'Supernatural', 'Suspense']\n",
    "for genre in all_genres:\n",
    "    info_conn.set_category(genre)\n",
    "    for row in info_conn:\n",
    "        insert_info_row(row)\n",
    "db_cur.execute('SELECT COUNT(*) FROM animeinfo')\n",
    "print('Website Size:', db_cur.fetchone()[0])"
   ],
   "metadata": {
    "collapsed": false,
    "ExecuteTime": {
     "end_time": "2024-04-20T02:48:19.780899Z",
     "start_time": "2024-04-20T02:22:29.563199Z"
    }
   },
   "id": "b5eac06d9d048f59",
   "outputs": [
    {
     "name": "stdout",
     "output_type": "stream",
     "text": [
      "Size = number of anime in the database\n",
      "Adventure Size: 3943\n",
      "Website Size: 6088\n"
     ]
    }
   ],
   "execution_count": 6
  },
  {
   "cell_type": "code",
   "source": [
    "print('Index Scraped:', info_conn.scraping_index, end='\\n')"
   ],
   "metadata": {
    "collapsed": false,
    "ExecuteTime": {
     "end_time": "2024-04-20T02:48:19.796857Z",
     "start_time": "2024-04-20T02:48:19.781896Z"
    }
   },
   "id": "5b1d809e3cf926a4",
   "outputs": [
    {
     "name": "stdout",
     "output_type": "stream",
     "text": [
      "Index Scraped: {'Adventure': {'page_index': 43, 'div_index': 0}, 'Action': {'page_index': 53, 'div_index': 0}, 'Avant_Garde': {'page_index': 54, 'div_index': 0}, 'Award_Winning': {'page_index': 55, 'div_index': 0}, 'Boys_Love': {'page_index': 56, 'div_index': 0}, 'Comedy': {'page_index': 75, 'div_index': 0}, 'Drama': {'page_index': 76, 'div_index': 0}, 'Fantasy': {'page_index': 77, 'div_index': 0}, 'Girls_Love': {'page_index': 78, 'div_index': 0}, 'Gourmet': {'page_index': 79, 'div_index': 0}, 'Mystery': {'page_index': 80, 'div_index': 0}, 'Romance': {'page_index': 81, 'div_index': 0}, 'Sci-Fi': {'page_index': 82, 'div_index': 0}, 'Slice_of_Life': {'page_index': 83, 'div_index': 0}, 'Sports': {'page_index': 84, 'div_index': 0}, 'Supernatural': {'page_index': 85, 'div_index': 0}}\n"
     ]
    }
   ],
   "execution_count": 7
  },
  {
   "cell_type": "code",
   "source": [
    "db_cur.close()\n",
    "db_conn.commit()\n",
    "db_conn.close()"
   ],
   "metadata": {
    "collapsed": false,
    "ExecuteTime": {
     "end_time": "2024-04-20T02:48:19.843970Z",
     "start_time": "2024-04-20T02:48:19.798406Z"
    }
   },
   "id": "321bd7e145cb7946",
   "outputs": [],
   "execution_count": 8
  },
  {
   "cell_type": "code",
   "source": [],
   "metadata": {
    "collapsed": false,
    "ExecuteTime": {
     "end_time": "2024-04-20T02:48:19.858928Z",
     "start_time": "2024-04-20T02:48:19.845965Z"
    }
   },
   "id": "4c9ef89ca3fb5b99",
   "outputs": [],
   "execution_count": 8
  }
 ],
 "metadata": {
  "kernelspec": {
   "display_name": "Python 3",
   "language": "python",
   "name": "python3"
  },
  "language_info": {
   "codemirror_mode": {
    "name": "ipython",
    "version": 2
   },
   "file_extension": ".py",
   "mimetype": "text/x-python",
   "name": "python",
   "nbconvert_exporter": "python",
   "pygments_lexer": "ipython2",
   "version": "2.7.6"
  }
 },
 "nbformat": 4,
 "nbformat_minor": 5
}
