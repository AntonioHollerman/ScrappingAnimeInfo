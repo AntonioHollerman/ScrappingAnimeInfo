{
 "cells": [
  {
   "cell_type": "code",
   "execution_count": null,
   "outputs": [],
   "source": [
    "from scraping_functions import *\n",
    "import pandas as pd"
   ],
   "metadata": {
    "collapsed": false
   },
   "id": "ca2ff67b37c33dbb"
  },
  {
   "cell_type": "code",
   "execution_count": null,
   "id": "initial_id",
   "metadata": {
    "collapsed": true
   },
   "outputs": [],
   "source": [
    "reviews_conn = ScrapeReviews()\n",
    "reviews = []"
   ]
  },
  {
   "cell_type": "code",
   "execution_count": null,
   "outputs": [],
   "source": [
    "for _ in range(250):\n",
    "    review = next(reviews_conn)\n",
    "    reviews.append()"
   ],
   "metadata": {
    "collapsed": false
   },
   "id": "72979677e5b68f86"
  },
  {
   "cell_type": "code",
   "execution_count": null,
   "outputs": [],
   "source": [
    "reviews_df = pd.DataFrame(reviews)\n",
    "reviews_df.columns = ['anime_id', 'username', 'recommendation', 'review']\n",
    "reviews_df.set_index(\"anime_id\", inplace=True)\n",
    "reviews_df"
   ],
   "metadata": {
    "collapsed": false
   },
   "id": "af70647978c10057"
  },
  {
   "cell_type": "code",
   "execution_count": null,
   "outputs": [],
   "source": [
    "try:\n",
    "    for _ in range(2500):\n",
    "        review = next(reviews_conn)\n",
    "        reviews.append(review)\n",
    "except StopIteration:\n",
    "    pass\n"
   ],
   "metadata": {
    "collapsed": false
   },
   "id": "a366e39db838ea36"
  },
  {
   "cell_type": "code",
   "execution_count": null,
   "outputs": [],
   "source": [
    "reviews_df = pd.DataFrame(reviews)\n",
    "reviews_df.columns = ['anime_id', 'username', 'recommendation', 'review']\n",
    "reviews_df.set_index(\"anime_id\", inplace=True)\n",
    "reviews_df"
   ],
   "metadata": {
    "collapsed": false
   },
   "id": "3032acbaf56c0704"
  },
  {
   "cell_type": "code",
   "execution_count": null,
   "outputs": [],
   "source": [
    "db_cur.close()\n",
    "db_conn.close()"
   ],
   "metadata": {
    "collapsed": false
   },
   "id": "99464f3c4df491d6"
  }
 ],
 "metadata": {
  "kernelspec": {
   "display_name": "Python 3",
   "language": "python",
   "name": "python3"
  },
  "language_info": {
   "codemirror_mode": {
    "name": "ipython",
    "version": 2
   },
   "file_extension": ".py",
   "mimetype": "text/x-python",
   "name": "python",
   "nbconvert_exporter": "python",
   "pygments_lexer": "ipython2",
   "version": "2.7.6"
  }
 },
 "nbformat": 4,
 "nbformat_minor": 5
}
